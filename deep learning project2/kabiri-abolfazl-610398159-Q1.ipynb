{
 "cells": [
  {
   "cell_type": "code",
   "execution_count": 1,
   "metadata": {},
   "outputs": [],
   "source": [
    "#importing part \n",
    "import matplotlib.pyplot as plt\n",
    "import pandas as pd\n",
    "import numpy as np"
   ]
  },
  {
   "cell_type": "code",
   "execution_count": 2,
   "metadata": {},
   "outputs": [],
   "source": [
    "#functions part\n",
    "\n",
    "#this method calculate polynomial features of degree n\n",
    "def featureOnDegreeN(x, n) :\n",
    "    t = np.copy(x)\n",
    "    #in each iterate X is modified\n",
    "    for i in range(2, n+1) :\n",
    "        t = np.concatenate((t, np.power(np.reshape(x[ : , 1],(-1,1)), i)), axis=1)\n",
    "    #then returned the modified x\n",
    "    return t\n",
    "\n",
    "#this function is calculate MSE of inputs\n",
    "def MSE(X, Y, w) :\n",
    "    #s is in actual sum of e\n",
    "    s = 0\n",
    "    for i in range(X.shape[0]) :\n",
    "        #calculate predicated value\n",
    "        #first we achieve predicated value\n",
    "        predicatedValue=np.dot(X[i].reshape(-1, X.shape[1]), w)[0][0]\n",
    "        #then modify s\n",
    "        s = (predicatedValue - Y[i])[0] ** 2\n",
    "    return s / X.shape[0]"
   ]
  },
  {
   "cell_type": "code",
   "execution_count": 3,
   "metadata": {},
   "outputs": [
    {
     "name": "stdout",
     "output_type": "stream",
     "text": [
      "train_X:  (200, 1)\n",
      "train_Y:  (200, 1)\n",
      "test_X:  (100, 1)\n",
      "test_Y:  (100, 1)\n",
      "new train_X:  (200, 2)\n",
      "new test_X:  (100, 2)\n"
     ]
    },
    {
     "data": {
      "image/png": "[encoded data removed]",
      "text/plain": [
       "<Figure size 432x288 with 1 Axes>"
      ]
     },
     "metadata": {
      "needs_background": "light"
     },
     "output_type": "display_data"
    }
   ],
   "source": [
    "#initializing and display part\n",
    "\n",
    "#reading train_set and test_set files\n",
    "#initialize train_X, train_Y, test_X, test_Y\n",
    "train_X = np.reshape(pd.read_csv(\"train_set.csv\").to_numpy()[ : , 0], (-1, 1))\n",
    "train_Y = np.reshape(pd.read_csv(\"train_set.csv\").to_numpy()[ : , 1], (-1, 1))\n",
    "test_X = np.reshape(pd.read_csv(\"test_set.csv\").to_numpy()[ : , 0], (-1, 1))\n",
    "test_Y = np.reshape(pd.read_csv(\"test_set.csv\").to_numpy()[ : , 1], (-1, 1))\n",
    "\n",
    "#print shapes  of train_X, train_Y, test_X, test_Y\n",
    "print(\"train_X: \", train_X.shape)\n",
    "print(\"train_Y: \", train_Y.shape)\n",
    "print(\"test_X: \", test_X.shape)\n",
    "print(\"test_Y: \", test_Y.shape)\n",
    "\n",
    "#plot the data set\n",
    "plt.scatter( train_X, train_Y)\n",
    "\n",
    "#before concate x0 must be give backup from train_X and train_y\n",
    "backup_X = np.copy(train_X)\n",
    "backup_Y = np.copy(test_X)\n",
    "#add first one(x0) of train_X and test_X to themselves and print them new shapes\n",
    "train_X = np.concatenate((np.ones((train_X.shape[0],1)),train_X),axis=1)\n",
    "test_X = np.concatenate((np.ones((test_X.shape[0],1)),test_X),axis=1)\n",
    "print(\"new train_X: \", train_X.shape)\n",
    "print(\"new test_X: \", test_X.shape)"
   ]
  },
  {
   "cell_type": "code",
   "execution_count": 4,
   "metadata": {},
   "outputs": [
    {
     "name": "stdout",
     "output_type": "stream",
     "text": [
      "[[ 0.6421799 ]\n",
      " [-0.26644821]]\n"
     ]
    }
   ],
   "source": [
    "#we now that w(hat) = (X(transpose) * X)^-1 * X(transpose) * Y\n",
    "#so calculate w(hat) for train_X and train_Y then prin it\n",
    "w_hat = np.matmul(np.linalg.inv(np.matmul(np.transpose(train_X), train_X)), np.matmul(np.transpose(train_X), train_Y))\n",
    "print(w_hat)"
   ]
  },
  {
   "cell_type": "code",
   "execution_count": 5,
   "metadata": {},
   "outputs": [
    {
     "data": {
      "image/png": "[encoded data removed]",
      "text/plain": [
       "<Figure size 432x288 with 1 Axes>"
      ]
     },
     "metadata": {
      "needs_background": "light"
     },
     "output_type": "display_data"
    }
   ],
   "source": [
    "#then we Plot the estimated decision line on dataset \n",
    "x_hy = np.reshape(backup_X, (backup_X.shape[0]))\n",
    "y_hy = x_hy * w_hat[1] + w_hat[0]\n",
    "plt.scatter(backup_X[:,0], train_Y[:,0], cmap=plt.cm.Spectral)\n",
    "plt.plot(x_hy, y_hy, '-' , c=\"red\")\n",
    "plt.xlabel(\"x\")\n",
    "plt.ylabel(\"y\")\n",
    "plt.show()"
   ]
  },
  {
   "cell_type": "code",
   "execution_count": 6,
   "metadata": {},
   "outputs": [
    {
     "name": "stdout",
     "output_type": "stream",
     "text": [
      "(200, 6)\n",
      "(100, 6)\n",
      "weights_list:   [array([[ 286.01161799],\n",
      "       [-421.97367917],\n",
      "       [ 239.92812983],\n",
      "       [ -65.31049793],\n",
      "       [   8.54769436],\n",
      "       [  -0.43283446]]), array([[-1.22308702],\n",
      "       [ 5.76250133],\n",
      "       [-4.57263022],\n",
      "       [ 1.67176263],\n",
      "       [-0.28769114],\n",
      "       [ 0.01808571]]), array([[-1.34669470e+00],\n",
      "       [ 2.99797164e+00],\n",
      "       [-1.06879844e+00],\n",
      "       [ 1.32971184e-01],\n",
      "       [-1.79862634e-02],\n",
      "       [ 1.95296626e-03]]), array([[-0.45145294],\n",
      "       [ 0.58160111],\n",
      "       [ 0.97851162],\n",
      "       [-0.62673533],\n",
      "       [ 0.10661027],\n",
      "       [-0.00536244]]), array([[-0.50717654],\n",
      "       [ 0.41741085],\n",
      "       [ 1.17048501],\n",
      "       [-0.73986671],\n",
      "       [ 0.13511055],\n",
      "       [-0.00772431]])]\n"
     ]
    }
   ],
   "source": [
    "#now we calculating polynomial features of degree 5 for train_x and test_X and its shape\n",
    "p = featureOnDegreeN(train_X, 5)\n",
    "p_test = featureOnDegreeN(test_X, 5)\n",
    "print(p.shape)\n",
    "print(p_test.shape)\n",
    "\n",
    "samples = [10, 25, 50, 100, 200]\n",
    "weights = []\n",
    "\n",
    "#we now that w(hat) = (X(transpose) * X)^-1 * X(transpose) * Y\n",
    "#so calculate w(hat) for p[ : i] and train_Y[ : i] then print it for each sample one\n",
    "for i in samples :\n",
    "    weights.append(np.matmul(np.linalg.inv(np.matmul(np.transpose(p[ : i]), p[ : i])), np.matmul(np.transpose(p[ : i]), train_Y[ : i])))\n",
    "    \n",
    "print(\"weights_list:  \",weights)"
   ]
  },
  {
   "cell_type": "code",
   "execution_count": 7,
   "metadata": {},
   "outputs": [
    {
     "name": "stdout",
     "output_type": "stream",
     "text": [
      "MSE for model with  10  training data is:  train MSE :  252.08699197499922    and test MSE :  0.16329511744581332\n",
      "MSE for model with  25  training data is:  train MSE :  0.018008983199359122    and test MSE :  0.0018622199752118785\n",
      "MSE for model with  50  training data is:  train MSE :  0.028131763473041076    and test MSE :  0.0005082834227121309\n",
      "MSE for model with  100  training data is:  train MSE :  0.0162996105141358    and test MSE :  0.00019804168555466757\n",
      "MSE for model with  200  training data is:  train MSE :  0.01771963674545049    and test MSE :  5.200237920931581e-07\n"
     ]
    }
   ],
   "source": [
    "#with written method MSE first calculate MSE for train and test for each model\n",
    "#then append result to lists\n",
    "#then print results\n",
    "MSETrain = []\n",
    "MSETest = []\n",
    "for i in range(len(weights)) :\n",
    "    x1 = MSE(p, train_Y, weights[i])\n",
    "    x2 = MSE(p_test, test_Y, weights[i])\n",
    "    MSETrain.append(x1)\n",
    "    MSETest.append(x2)\n",
    "    #display results\n",
    "    print(\"MSE for model with \", samples[i], \" training data is:  train MSE : \", x1,\"   and test MSE : \", x2)"
   ]
  },
  {
   "cell_type": "code",
   "execution_count": 8,
   "metadata": {},
   "outputs": [
    {
     "data": {
      "image/png": "[encoded data removed]",
      "text/plain": [
       "<Figure size 432x288 with 1 Axes>"
      ]
     },
     "metadata": {
      "needs_background": "light"
     },
     "output_type": "display_data"
    }
   ],
   "source": [
    "plt.plot(samples, MSETrain, c=\"red\")\n",
    "plt.plot(samples, MSETest, c=\"blue\")\n",
    "plt.xticks(samples)\n",
    "plt.ylim(min(MSETest), max(MSETest))\n",
    "plt.show()"
   ]
  },
  {
   "cell_type": "markdown",
   "metadata": {},
   "source": [
    "همانطور که  نتایج را میبینیم واضح است که روی داده اول اورفیت میکند...روی داده دوم به خوبی تشخیص نمیدهد ولی رفته رفته دقت بهتر میشود و هیچ یک اورفیت نمیکند"
   ]
  }
 ],
 "metadata": {
  "kernelspec": {
   "display_name": "Python 3.6.4 32-bit",
   "language": "python",
   "name": "python3"
  },
  "language_info": {
   "codemirror_mode": {
    "name": "ipython",
    "version": 3
   },
   "file_extension": ".py",
   "mimetype": "text/x-python",
   "name": "python",
   "nbconvert_exporter": "python",
   "pygments_lexer": "ipython3",
   "version": "3.6.4"
  },
  "orig_nbformat": 4,
  "vscode": {
   "interpreter": {
    "hash": "c6e1c24d82d5361d9168360964fb5a5b1aa431ab40d0bc4d411808c4ada5f51b"
   }
  }
 },
 "nbformat": 4,
 "nbformat_minor": 2
}
