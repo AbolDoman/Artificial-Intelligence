{
 "cells": [
  {
   "cell_type": "code",
   "execution_count": 62,
   "metadata": {},
   "outputs": [],
   "source": [
    "#import libraries\n",
    "import copy\n",
    "import time\n",
    "import tracemalloc"
   ]
  },
  {
   "cell_type": "code",
   "execution_count": 63,
   "metadata": {},
   "outputs": [],
   "source": [
    "#Initialization\n",
    "representMovesString = [\"up\" , \"right\" , \"down\" , \"left\"]\n",
    "samples = []\n",
    "easy_samples = []\n",
    "medium_samples = []\n",
    "hard_samples = []\n",
    "count = 0\n",
    "totalTimeForDfsSearch = 0\n",
    "totalMemoryForDfsSearch = 0\n",
    "totalNumberOfDfsSearch = 0\n",
    "\n",
    "#Stack Class definition\n",
    "class Stack :\n",
    "    def __init__(self):\n",
    "        self.items = []\n",
    "    def is_empty(self):\n",
    "            return self.items==[]\n",
    "    def push(self, data):\n",
    "        self.items.append(data)\n",
    "    def pop(self):\n",
    "        return self.items.pop()"
   ]
  },
  {
   "cell_type": "code",
   "execution_count": 64,
   "metadata": {},
   "outputs": [],
   "source": [
    "#read Example.txt file and Initialization\n",
    "with open(\"Examples.txt\") as fp:\n",
    "    while True:\n",
    "        count += 1\n",
    "        line = fp.readline()\n",
    "  \n",
    "        if not line:\n",
    "            break\n",
    "        samples.append(line.strip())\n",
    "        \n",
    "for i in range(len(samples)):\n",
    "    if(i>=1 and i<21):\n",
    "        easy_samples.append(samples[i])\n",
    "    elif(i>=23 and i<38):\n",
    "        medium_samples.append(samples[i])\n",
    "    elif(i>=41 and i<61):\n",
    "        hard_samples.append((samples[i]))\n",
    "\n",
    "for i in range(len(easy_samples)): \n",
    "    easy_samples[i]=easy_samples[i][2:]\n",
    "    easy_samples[i]=easy_samples[i][:17]\n",
    "    easy_samples[i]=easy_samples[i].split(\",\")\n",
    "    easy_samples[i]=[[eval(easy_samples[i][0]),eval(easy_samples[i][1]),eval(easy_samples[i][2])],[eval(easy_samples[i][3]),eval(easy_samples[i][4]),eval(easy_samples[i][5])],[eval(easy_samples[i][6]),eval(easy_samples[i][7]),eval(easy_samples[i][8])],]\n",
    "for i in range(len(medium_samples)): \n",
    "    medium_samples[i]=medium_samples[i][2:]\n",
    "    medium_samples[i]=medium_samples[i][:17]\n",
    "    medium_samples[i]=medium_samples[i].split(\",\")\n",
    "    medium_samples[i]=[[eval(medium_samples[i][0]),eval(medium_samples[i][1]),eval(medium_samples[i][2])],[eval(medium_samples[i][3]),eval(medium_samples[i][4]),eval(medium_samples[i][5])],[eval(medium_samples[i][6]),eval(medium_samples[i][7]),eval(medium_samples[i][8])],]\n",
    "for i in range(len(hard_samples)): \n",
    "    hard_samples[i]=hard_samples[i][2:]\n",
    "    hard_samples[i]=hard_samples[i][:17]\n",
    "    hard_samples[i]=hard_samples[i].split(\",\")\n",
    "    hard_samples[i]=[[eval(hard_samples[i][0]),eval(hard_samples[i][1]),eval(hard_samples[i][2])],[eval(hard_samples[i][3]),eval(hard_samples[i][4]),eval(hard_samples[i][5])],[eval(hard_samples[i][6]),eval(hard_samples[i][7]),eval(hard_samples[i][8])],]\n"
   ]
  },
  {
   "cell_type": "code",
   "execution_count": 65,
   "metadata": {},
   "outputs": [],
   "source": [
    "#methods\n",
    "\n",
    "#this method does an move in maze\n",
    "def conversionMaze(myMaze, current, move):\n",
    "    i , j = current[0] , current[1]\n",
    "    movedMaze = copy.deepcopy(myMaze)\n",
    "    if move == 0 :\n",
    "        movedMaze[i][j] = movedMaze[i-1][j]\n",
    "        movedMaze[i-1][j] = 0\n",
    "    if move == 1 :\n",
    "        movedMaze[i][j] = movedMaze[i][j+1]\n",
    "        movedMaze[i][j+1] = 0\n",
    "    if move == 2 :\n",
    "        movedMaze[i][j] = movedMaze[i+1][j]\n",
    "        movedMaze[i+1][j] = 0\n",
    "    if move == 3:\n",
    "        movedMaze[i][j] = movedMaze[i][j-1]\n",
    "        movedMaze[i][j-1] = 0\n",
    "    return movedMaze\n",
    "\n",
    "#this method find the zero in 9 numbers\n",
    "def find_zero(maze):\n",
    "    for i in range(3):\n",
    "        for j in range(3):\n",
    "            if maze[i][j]==0:\n",
    "                return [i,j]\n",
    "            \n",
    "def legalMoves(current):\n",
    "    i , j = current[0] , current[1]\n",
    "    #l is a list of all  legal moves\n",
    "    l = []\n",
    "    if (i != 0):\n",
    "        l.append(0)\n",
    "    if (j != 2):\n",
    "        l.append(1)\n",
    "    if (i != 2):\n",
    "        l.append(2)\n",
    "    if (j != 0):\n",
    "        l.append(3)\n",
    "    return l"
   ]
  },
  {
   "cell_type": "code",
   "execution_count": 66,
   "metadata": {},
   "outputs": [],
   "source": [
    "def dfs(maze,MAX_DEPTH):\n",
    "    movesSequence = []\n",
    "    stack = Stack()\n",
    "    stack.push(maze)\n",
    "    i=0\n",
    "    while (stack.is_empty() == False):\n",
    "        if(i>MAX_DEPTH):\n",
    "            return -1\n",
    "        i+=1\n",
    "        myMaze = stack.pop()\n",
    "        if myMaze == [[1,2,3],[4,5,6],[7,8,0]] :\n",
    "            return myMaze\n",
    "        if(len(movesSequence) > MAX_DEPTH):\n",
    "            return -1\n",
    "        movesSequence.append(myMaze)\n",
    "        zeroPlace = find_zero(myMaze)\n",
    "\n",
    "        moves = legalMoves(zeroPlace)\n",
    "        for i in moves:\n",
    "            updatedMaze = conversionMaze(myMaze, zeroPlace, i)\n",
    "            if updatedMaze not in movesSequence:\n",
    "                stack.push(updatedMaze)"
   ]
  },
  {
   "cell_type": "code",
   "execution_count": 67,
   "metadata": {},
   "outputs": [
    {
     "name": "stdout",
     "output_type": "stream",
     "text": [
      "for easy samples:  \n",
      "for puzzle:  [[1, 2, 3], [0, 7, 6], [5, 4, 8]]\n",
      "time :  22.953054904937744\n",
      "memory :  33375785\n",
      "algorithm creashed and infinite loop\n",
      "for puzzle:  [[0, 4, 1], [2, 5, 3], [7, 8, 6]]\n",
      "time :  2.943359375\n",
      "memory :  33375785\n",
      "action sequence: "
     ]
    },
    {
     "ename": "TypeError",
     "evalue": "list indices must be integers or slices, not list",
     "output_type": "error",
     "traceback": [
      "\u001b[1;31m---------------------------------------------------------------------------\u001b[0m",
      "\u001b[1;31mTypeError\u001b[0m                                 Traceback (most recent call last)",
      "\u001b[1;32m<ipython-input-67-4cf0f0cf69e5>\u001b[0m in \u001b[0;36m<module>\u001b[1;34m\u001b[0m\n\u001b[0;32m     28\u001b[0m                 \u001b[0mprint\u001b[0m\u001b[1;33m(\u001b[0m\u001b[1;33m)\u001b[0m\u001b[1;33m\u001b[0m\u001b[0m\n\u001b[0;32m     29\u001b[0m             \u001b[1;32melse\u001b[0m\u001b[1;33m:\u001b[0m\u001b[1;33m\u001b[0m\u001b[0m\n\u001b[1;32m---> 30\u001b[1;33m                 \u001b[0mprint\u001b[0m\u001b[1;33m(\u001b[0m\u001b[0mrepresentMovesString\u001b[0m\u001b[1;33m[\u001b[0m\u001b[0mmovesSequence\u001b[0m\u001b[1;33m[\u001b[0m\u001b[0mi\u001b[0m\u001b[1;33m]\u001b[0m\u001b[1;33m]\u001b[0m\u001b[1;33m,\u001b[0m\u001b[0mend\u001b[0m\u001b[1;33m=\u001b[0m\u001b[1;34m\"-\"\u001b[0m\u001b[1;33m)\u001b[0m\u001b[1;33m\u001b[0m\u001b[0m\n\u001b[0m\u001b[0;32m     31\u001b[0m             \u001b[0mdisplayMat\u001b[0m \u001b[1;33m=\u001b[0m \u001b[0mconversionMaze\u001b[0m\u001b[1;33m(\u001b[0m\u001b[0mdisplayMat\u001b[0m\u001b[1;33m,\u001b[0m \u001b[0mcurrent_empty\u001b[0m\u001b[1;33m,\u001b[0m \u001b[0mmovesSequence\u001b[0m\u001b[1;33m[\u001b[0m\u001b[0mi\u001b[0m\u001b[1;33m]\u001b[0m\u001b[1;33m)\u001b[0m\u001b[1;33m\u001b[0m\u001b[0m\n",
      "\u001b[1;31mTypeError\u001b[0m: list indices must be integers or slices, not list"
     ]
    }
   ],
   "source": [
    "print(\"for easy samples:  \")\n",
    "for i in range(len(easy_samples)):\n",
    "    displayMat = easy_samples[i]\n",
    "    print(\"for puzzle: \",displayMat)\n",
    "    \n",
    "    #bottom two lines calculate the whole time and memory\n",
    "    startAlgorithm = time.time()\n",
    "    tracemalloc.start()\n",
    "    \n",
    "    movesSequence = dfs(easy_samples[i],10000)\n",
    "    \n",
    "    totalTime = time.time() - startAlgorithm\n",
    "    totalMemory = tracemalloc.get_traced_memory()[1]\n",
    "    totalTimeForDfsSearch += totalTime\n",
    "    totalMemoryForDfsSearch += totalMemory\n",
    "    totalNumberOfDfsSearch += 1\n",
    "    print(\"time : \", totalTime)\n",
    "    print(\"memory : \", totalMemory)\n",
    "    \n",
    "    if(movesSequence==-1):\n",
    "        print(\"algorithm creashed and infinite loop\")\n",
    "    else:         \n",
    "        print(\"action sequence: \",end=\"\")\n",
    "        for i in range(1, len(movesSequence)):\n",
    "            current_empty = find_zero(displayMat)\n",
    "            if(i==len(movesSequence)-1):\n",
    "                print(representMovesString[movesSequence[i]])\n",
    "                print()\n",
    "            else:\n",
    "                print(representMovesString[movesSequence[i]],end=\"-\")\n",
    "            displayMat = conversionMaze(displayMat, current_empty, movesSequence[i])"
   ]
  },
  {
   "cell_type": "code",
   "execution_count": null,
   "metadata": {},
   "outputs": [
    {
     "name": "stdout",
     "output_type": "stream",
     "text": [
      "for medium samples:  \n",
      "for puzzle:  [[1, 3, 5], [7, 2, 6], [8, 0, 4]]\n"
     ]
    },
    {
     "ename": "TypeError",
     "evalue": "dfs() missing 1 required positional argument: 'MAX_DEPTH'",
     "output_type": "error",
     "traceback": [
      "\u001b[1;31m---------------------------------------------------------------------------\u001b[0m",
      "\u001b[1;31mTypeError\u001b[0m                                 Traceback (most recent call last)",
      "\u001b[1;32m<ipython-input-31-040a2164ef4b>\u001b[0m in \u001b[0;36m<module>\u001b[1;34m\u001b[0m\n\u001b[0;32m      8\u001b[0m     \u001b[0mtracemalloc\u001b[0m\u001b[1;33m.\u001b[0m\u001b[0mstart\u001b[0m\u001b[1;33m(\u001b[0m\u001b[1;33m)\u001b[0m\u001b[1;33m\u001b[0m\u001b[0m\n\u001b[0;32m      9\u001b[0m \u001b[1;33m\u001b[0m\u001b[0m\n\u001b[1;32m---> 10\u001b[1;33m     \u001b[0mmovesSequence\u001b[0m \u001b[1;33m=\u001b[0m \u001b[0mdfs\u001b[0m\u001b[1;33m(\u001b[0m\u001b[0mmedium_samples\u001b[0m\u001b[1;33m[\u001b[0m\u001b[0mi\u001b[0m\u001b[1;33m]\u001b[0m\u001b[1;33m)\u001b[0m\u001b[1;33m\u001b[0m\u001b[0m\n\u001b[0m\u001b[0;32m     11\u001b[0m \u001b[1;33m\u001b[0m\u001b[0m\n\u001b[0;32m     12\u001b[0m     \u001b[0mtotalTime\u001b[0m \u001b[1;33m=\u001b[0m \u001b[0mtime\u001b[0m\u001b[1;33m.\u001b[0m\u001b[0mtime\u001b[0m\u001b[1;33m(\u001b[0m\u001b[1;33m)\u001b[0m \u001b[1;33m-\u001b[0m \u001b[0mstartAlgorithm\u001b[0m\u001b[1;33m\u001b[0m\u001b[0m\n",
      "\u001b[1;31mTypeError\u001b[0m: dfs() missing 1 required positional argument: 'MAX_DEPTH'"
     ]
    }
   ],
   "source": [
    "print(\"for medium samples:  \")\n",
    "for i in range(len(medium_samples)):\n",
    "    displayMat = medium_samples[i]\n",
    "    print(\"for puzzle: \",displayMat)\n",
    "    \n",
    "    #bottom two lines calculate the whole time and memory\n",
    "    startAlgorithm = time.time()\n",
    "    tracemalloc.start()\n",
    "    \n",
    "    movesSequence = dfs(medium_samples[i])\n",
    "    \n",
    "    totalTime = time.time() - startAlgorithm\n",
    "    totalMemory = tracemalloc.get_traced_memory()[1]\n",
    "    totalTimeForDfsSearch += totalTime\n",
    "    totalMemoryForDfsSearch += totalMemory\n",
    "    totalNumberOfDfsSearch += 1\n",
    "    print(\"time : \", totalTime)\n",
    "    print(\"memory : \", totalMemory)\n",
    "    \n",
    "    if(movesSequence==-1):\n",
    "        print(\"algorithm creashed and infinite loop\")\n",
    "    else:         \n",
    "        print(\"action sequence: \",end=\"\")\n",
    "        for i in range(1, len(movesSequence)):\n",
    "            current_empty = find_zero(displayMat)\n",
    "            if(i==len(movesSequence)-1):\n",
    "                print(representMovesString[movesSequence[i]])\n",
    "                print()\n",
    "            else:\n",
    "                print(representMovesString[movesSequence[i]],end=\"-\")\n",
    "            displayMat = conversionMaze(displayMat, current_empty, movesSequence[i])"
   ]
  },
  {
   "cell_type": "code",
   "execution_count": null,
   "metadata": {},
   "outputs": [],
   "source": [
    "print(\"for hard samples:  \")\n",
    "for i in range(len(hard_samples)):\n",
    "    displayMat = hard_samples[i]\n",
    "    print(\"for puzzle: \",displayMat)\n",
    "    \n",
    "    #bottom two lines calculate the whole time and memory\n",
    "    startAlgorithm = time.time()\n",
    "    tracemalloc.start()\n",
    "    \n",
    "    movesSequence = dfs(hard_samples[i])\n",
    "    \n",
    "    totalTime = time.time() - startAlgorithm\n",
    "    totalMemory = tracemalloc.get_traced_memory()[1]\n",
    "    totalTimeForDfsSearch += totalTime\n",
    "    totalMemoryForDfsSearch += totalMemory\n",
    "    totalNumberOfDfsSearch += 1\n",
    "    print(\"time : \", totalTime)\n",
    "    print(\"memory : \", totalMemory)\n",
    "    \n",
    "    if(movesSequence==-1):\n",
    "        print(\"algorithm creashed and infinite loop\")\n",
    "    else:         \n",
    "        print(\"action sequence: \",end=\"\")\n",
    "        for i in range(1, len(movesSequence)):\n",
    "            current_empty = find_zero(displayMat)\n",
    "            if(i==len(movesSequence)-1):\n",
    "                print(representMovesString[movesSequence[i]])\n",
    "                print()\n",
    "            else:\n",
    "                print(representMovesString[movesSequence[i]],end=\"-\")\n",
    "            displayMat = conversionMaze(displayMat, current_empty, movesSequence[i])"
   ]
  },
  {
   "cell_type": "code",
   "execution_count": null,
   "metadata": {},
   "outputs": [],
   "source": [
    "#avrege time and memory for dfs\n",
    "print(\"time average: \",totalTimeForDfsSearch/totalNumberOfDfsSearch)\n",
    "print(\"memory average: \",totalMemoryForDfsSearch/totalNumberOfDfsSearch)"
   ]
  }
 ],
 "metadata": {
  "kernelspec": {
   "display_name": "Python 3.6.4 32-bit",
   "language": "python",
   "name": "python3"
  },
  "language_info": {
   "codemirror_mode": {
    "name": "ipython",
    "version": 3
   },
   "file_extension": ".py",
   "mimetype": "text/x-python",
   "name": "python",
   "nbconvert_exporter": "python",
   "pygments_lexer": "ipython3",
   "version": "3.6.4"
  },
  "orig_nbformat": 4,
  "vscode": {
   "interpreter": {
    "hash": "c6e1c24d82d5361d9168360964fb5a5b1aa431ab40d0bc4d411808c4ada5f51b"
   }
  }
 },
 "nbformat": 4,
 "nbformat_minor": 2
}
